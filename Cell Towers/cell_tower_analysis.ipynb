{
 "cells": [
  {
   "attachments": {},
   "cell_type": "markdown",
   "metadata": {},
   "source": [
    "API Documentary Source: https://wiki.opencellid.org/wiki/API\n",
    "\n",
    "The link above provides a description of the columns that can be found in the API response data\n",
    "\n",
    "MCC Country Codes can be found in the following website: https://en.wikipedia.org/wiki/Mobile_country_code\n",
    "\n",
    "The first digit of the mobile country code identifies the geographic region as follows (the digits 1 and 8 are not used):\n",
    "- 0: Test networks\n",
    "- 2: Europe\n",
    "- 3: North America and the Caribbean\n",
    "- 4: Asia and the Middle East\n",
    "- 5: Australia and Oceania\n",
    "- 6: Africa\n",
    "- 7: South and Central America\n",
    "- 9: Worldwide (Satellite, Air—aboard aircraft, Maritime—aboard ships, Antarctica)"
   ]
  },
  {
   "cell_type": "code",
   "execution_count": 66,
   "metadata": {},
   "outputs": [],
   "source": [
    "import pandas as pd\n",
    "import math\n",
    "import numpy as np\n",
    "import json\n",
    "from geopy.distance import distance\n",
    "from keplergl import KeplerGl"
   ]
  },
  {
   "attachments": {},
   "cell_type": "markdown",
   "metadata": {},
   "source": [
    "Read the data and config"
   ]
  },
  {
   "cell_type": "code",
   "execution_count": 67,
   "metadata": {},
   "outputs": [],
   "source": [
    "data = pd.read_csv('Data/cell_towers.csv')"
   ]
  },
  {
   "cell_type": "code",
   "execution_count": 68,
   "metadata": {},
   "outputs": [],
   "source": [
    "with open('config.json', 'r') as f:\n",
    "  config = json.load(f)"
   ]
  },
  {
   "attachments": {},
   "cell_type": "markdown",
   "metadata": {},
   "source": [
    "Drop Irrelevant Columns"
   ]
  },
  {
   "cell_type": "code",
   "execution_count": 69,
   "metadata": {},
   "outputs": [],
   "source": [
    "del data['unit']\n",
    "del data['changeable']\n",
    "del data['created']\n",
    "del data['updated']\n",
    "del data['averageSignal']\n",
    "del data['net']\n",
    "del data['samples']"
   ]
  },
  {
   "attachments": {},
   "cell_type": "markdown",
   "metadata": {},
   "source": [
    "Random Location"
   ]
  },
  {
   "cell_type": "code",
   "execution_count": 70,
   "metadata": {},
   "outputs": [],
   "source": [
    "# data['mcc'] = data['mcc'].astype(str)\n",
    "# subset = data[data['mcc'].str.match(f\"^{continents['Asia and the Middle East']}\")]\n",
    "# subset = data[data.mcc.isin([457,502,515,520,452,528,414,525,456,510])].reset_index(drop=True)\n",
    "subset = data[data.mcc.isin([250])].reset_index(drop=True)\n",
    "lte = subset[subset.radio == 'LTE'].reset_index(drop = True)\n",
    "umts = subset[subset.radio == 'UMTS'].reset_index(drop = True)\n",
    "gsm = subset[subset.radio == 'GSM'].reset_index(drop = True)"
   ]
  },
  {
   "attachments": {},
   "cell_type": "markdown",
   "metadata": {},
   "source": [
    "Modify config"
   ]
  },
  {
   "cell_type": "code",
   "execution_count": 71,
   "metadata": {},
   "outputs": [],
   "source": [
    "config['config']['mapState']['latitude'] = subset['lat'].mean()\n",
    "config['config']['mapState']['longitude'] = subset['lon'].mean()\n",
    "\n",
    "# Find the minimum and maximum latitude and longitude\n",
    "min_lat, min_lon = subset['lat'].min(), subset['lon'].min()\n",
    "max_lat, max_lon = subset['lat'].max(), subset['lon'].max()\n",
    "\n",
    "# Calculate the distance between the top-left and bottom-right corners of the bounding box\n",
    "distance_m = distance((max_lat, min_lon), (min_lat, max_lon)).meters\n",
    "\n",
    "# Set the desired width or height of the map in pixels\n",
    "width_px = 800\n",
    "height_px = 600\n",
    "\n",
    "# Calculate the zoom level based on the distance and desired size of the map\n",
    "config['config']['mapState']['zoom'] = math.floor(math.log2((40075016.686 * width_px) / (distance_m * 256)))"
   ]
  },
  {
   "attachments": {},
   "cell_type": "markdown",
   "metadata": {},
   "source": [
    "Create the visual on Kepler.gl"
   ]
  },
  {
   "cell_type": "code",
   "execution_count": 72,
   "metadata": {},
   "outputs": [
    {
     "name": "stdout",
     "output_type": "stream",
     "text": [
      "User Guide: https://docs.kepler.gl/docs/keplergl-jupyter\n"
     ]
    },
    {
     "data": {
      "application/vnd.jupyter.widget-view+json": {
       "model_id": "4e7dac18013b499fad634ae2bfa8d096",
       "version_major": 2,
       "version_minor": 0
      },
      "text/plain": [
       "KeplerGl(config={'version': 'v1', 'config': {'visState': {'filters': [], 'layers': [{'id': '4e3poy', 'type': '…"
      ]
     },
     "metadata": {},
     "output_type": "display_data"
    }
   ],
   "source": [
    "cell_tower_visual = KeplerGl(height=800, data={\"LTE Cell Towers\": lte}, config=config)\n",
    "cell_tower_visual.add_data(data=umts, name='UMTS Cell Towers')\n",
    "cell_tower_visual.add_data(data=gsm, name='GSM Cell Towers')\n",
    "cell_tower_visual"
   ]
  },
  {
   "cell_type": "code",
   "execution_count": 24,
   "metadata": {},
   "outputs": [
    {
     "name": "stdout",
     "output_type": "stream",
     "text": [
      "Map saved to Cell Towers - Russia.html!\n"
     ]
    }
   ],
   "source": [
    "cell_tower_visual.save_to_html(file_name='Cell Towers - Russia.html')"
   ]
  },
  {
   "cell_type": "code",
   "execution_count": null,
   "metadata": {},
   "outputs": [],
   "source": []
  }
 ],
 "metadata": {
  "kernelspec": {
   "display_name": "bt4222_env",
   "language": "python",
   "name": "python3"
  },
  "language_info": {
   "codemirror_mode": {
    "name": "ipython",
    "version": 3
   },
   "file_extension": ".py",
   "mimetype": "text/x-python",
   "name": "python",
   "nbconvert_exporter": "python",
   "pygments_lexer": "ipython3",
   "version": "3.7.11"
  },
  "orig_nbformat": 4
 },
 "nbformat": 4,
 "nbformat_minor": 2
}

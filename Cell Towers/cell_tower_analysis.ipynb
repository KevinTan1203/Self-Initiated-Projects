{
 "cells": [
  {
   "attachments": {},
   "cell_type": "markdown",
   "metadata": {},
   "source": [
    "API Documentary Source: https://wiki.opencellid.org/wiki/API\n",
    "\n",
    "The link above provides a description of the columns that can be found in the API response data\n",
    "\n",
    "MCC Country Codes can be found in the following website: https://en.wikipedia.org/wiki/Mobile_country_code\n",
    "\n",
    "The first digit of the mobile country code identifies the geographic region as follows (the digits 1 and 8 are not used):\n",
    "- 0: Test networks\n",
    "- 2: Europe\n",
    "- 3: North America and the Caribbean\n",
    "- 4: Asia and the Middle East\n",
    "- 5: Australia and Oceania\n",
    "- 6: Africa\n",
    "- 7: South and Central America\n",
    "- 9: Worldwide (Satellite, Air—aboard aircraft, Maritime—aboard ships, Antarctica)"
   ]
  },
  {
   "cell_type": "code",
   "execution_count": 1,
   "metadata": {},
   "outputs": [],
   "source": [
    "import pandas as pd\n",
    "from keplergl import KeplerGl\n",
    "import numpy as np\n",
    "import json"
   ]
  },
  {
   "attachments": {},
   "cell_type": "markdown",
   "metadata": {},
   "source": [
    "Read the data and config"
   ]
  },
  {
   "cell_type": "code",
   "execution_count": 2,
   "metadata": {},
   "outputs": [],
   "source": [
    "data = pd.read_csv('../Datasets/cell_towers.csv')"
   ]
  },
  {
   "cell_type": "code",
   "execution_count": 3,
   "metadata": {},
   "outputs": [],
   "source": [
    "with open('config.json', 'r') as f:\n",
    "  config = json.load(f)"
   ]
  },
  {
   "attachments": {},
   "cell_type": "markdown",
   "metadata": {},
   "source": [
    "Drop Irrelevant Columns"
   ]
  },
  {
   "cell_type": "code",
   "execution_count": 4,
   "metadata": {},
   "outputs": [],
   "source": [
    "del data['unit']\n",
    "del data['changeable']\n",
    "del data['created']\n",
    "del data['updated']\n",
    "del data['averageSignal']\n",
    "del data['net']\n",
    "del data['samples']"
   ]
  },
  {
   "attachments": {},
   "cell_type": "markdown",
   "metadata": {},
   "source": [
    "Analysis of a single location"
   ]
  },
  {
   "cell_type": "code",
   "execution_count": 5,
   "metadata": {},
   "outputs": [],
   "source": [
    "areaList = set(list(data.area))\n",
    "mccList = set(list(data.mcc))\n",
    "\n",
    "continents = {\n",
    "    \"Test networks\": 0,\n",
    "    \"Europe\": 2,\n",
    "    \"North America and the Caribbean\": 3,\n",
    "    \"Asia and the Middle East\": 4,\n",
    "    \"Australia and Oceania\": 5,\n",
    "    \"Africa\": 6,\n",
    "    \"South and Central America\": 7,\n",
    "    \"Worldwide (Satellite, Air—aboard aircraft, Maritime—aboard ships, Antarctica)\": 9\n",
    "}"
   ]
  },
  {
   "attachments": {},
   "cell_type": "markdown",
   "metadata": {},
   "source": [
    "South-East-Asia"
   ]
  },
  {
   "cell_type": "code",
   "execution_count": 15,
   "metadata": {},
   "outputs": [],
   "source": [
    "# data['mcc'] = data['mcc'].astype(str)\n",
    "# subset = data[data['mcc'].str.match(f\"^{continents['Asia and the Middle East']}\")]\n",
    "subset = data[data.mcc.isin([460])].reset_index(drop=True)\n",
    "# lte = subset[subset.radio == 'lte'].reset_index(drop = True)\n",
    "# umts = subset[subset.radio == 'UMTS'].reset_index(drop = True)\n",
    "# gsm = subset[subset.radio == 'GSM'].reset_index(drop = True)\n",
    "\n",
    "# ,457,502,515,520,452"
   ]
  },
  {
   "cell_type": "code",
   "execution_count": 16,
   "metadata": {},
   "outputs": [
    {
     "data": {
      "text/html": [
       "<div>\n",
       "<style scoped>\n",
       "    .dataframe tbody tr th:only-of-type {\n",
       "        vertical-align: middle;\n",
       "    }\n",
       "\n",
       "    .dataframe tbody tr th {\n",
       "        vertical-align: top;\n",
       "    }\n",
       "\n",
       "    .dataframe thead th {\n",
       "        text-align: right;\n",
       "    }\n",
       "</style>\n",
       "<table border=\"1\" class=\"dataframe\">\n",
       "  <thead>\n",
       "    <tr style=\"text-align: right;\">\n",
       "      <th></th>\n",
       "      <th>radio</th>\n",
       "      <th>mcc</th>\n",
       "      <th>area</th>\n",
       "      <th>cell</th>\n",
       "      <th>lon</th>\n",
       "      <th>lat</th>\n",
       "      <th>range</th>\n",
       "    </tr>\n",
       "  </thead>\n",
       "  <tbody>\n",
       "    <tr>\n",
       "      <th>0</th>\n",
       "      <td>GSM</td>\n",
       "      <td>460</td>\n",
       "      <td>20687</td>\n",
       "      <td>59282</td>\n",
       "      <td>121.028058</td>\n",
       "      <td>31.333056</td>\n",
       "      <td>1000</td>\n",
       "    </tr>\n",
       "    <tr>\n",
       "      <th>1</th>\n",
       "      <td>GSM</td>\n",
       "      <td>460</td>\n",
       "      <td>21124</td>\n",
       "      <td>56686</td>\n",
       "      <td>120.684471</td>\n",
       "      <td>31.351204</td>\n",
       "      <td>1000</td>\n",
       "    </tr>\n",
       "    <tr>\n",
       "      <th>2</th>\n",
       "      <td>GSM</td>\n",
       "      <td>460</td>\n",
       "      <td>22547</td>\n",
       "      <td>13677</td>\n",
       "      <td>120.126572</td>\n",
       "      <td>30.253601</td>\n",
       "      <td>1000</td>\n",
       "    </tr>\n",
       "    <tr>\n",
       "      <th>3</th>\n",
       "      <td>GSM</td>\n",
       "      <td>460</td>\n",
       "      <td>29828</td>\n",
       "      <td>40113</td>\n",
       "      <td>112.388077</td>\n",
       "      <td>26.410446</td>\n",
       "      <td>1000</td>\n",
       "    </tr>\n",
       "    <tr>\n",
       "      <th>4</th>\n",
       "      <td>GSM</td>\n",
       "      <td>460</td>\n",
       "      <td>28960</td>\n",
       "      <td>41574</td>\n",
       "      <td>114.827042</td>\n",
       "      <td>30.850296</td>\n",
       "      <td>1000</td>\n",
       "    </tr>\n",
       "    <tr>\n",
       "      <th>...</th>\n",
       "      <td>...</td>\n",
       "      <td>...</td>\n",
       "      <td>...</td>\n",
       "      <td>...</td>\n",
       "      <td>...</td>\n",
       "      <td>...</td>\n",
       "      <td>...</td>\n",
       "    </tr>\n",
       "    <tr>\n",
       "      <th>974678</th>\n",
       "      <td>GSM</td>\n",
       "      <td>460</td>\n",
       "      <td>9025</td>\n",
       "      <td>1918</td>\n",
       "      <td>115.859545</td>\n",
       "      <td>23.967862</td>\n",
       "      <td>1000</td>\n",
       "    </tr>\n",
       "    <tr>\n",
       "      <th>974679</th>\n",
       "      <td>GSM</td>\n",
       "      <td>460</td>\n",
       "      <td>9071</td>\n",
       "      <td>38724</td>\n",
       "      <td>115.964227</td>\n",
       "      <td>24.016896</td>\n",
       "      <td>1000</td>\n",
       "    </tr>\n",
       "    <tr>\n",
       "      <th>974680</th>\n",
       "      <td>GSM</td>\n",
       "      <td>460</td>\n",
       "      <td>9071</td>\n",
       "      <td>4085</td>\n",
       "      <td>115.965408</td>\n",
       "      <td>24.016786</td>\n",
       "      <td>1000</td>\n",
       "    </tr>\n",
       "    <tr>\n",
       "      <th>974681</th>\n",
       "      <td>GSM</td>\n",
       "      <td>460</td>\n",
       "      <td>9071</td>\n",
       "      <td>38705</td>\n",
       "      <td>115.993442</td>\n",
       "      <td>24.024188</td>\n",
       "      <td>1000</td>\n",
       "    </tr>\n",
       "    <tr>\n",
       "      <th>974682</th>\n",
       "      <td>LTE</td>\n",
       "      <td>460</td>\n",
       "      <td>33284</td>\n",
       "      <td>195577244</td>\n",
       "      <td>103.623505</td>\n",
       "      <td>30.509882</td>\n",
       "      <td>1000</td>\n",
       "    </tr>\n",
       "  </tbody>\n",
       "</table>\n",
       "<p>974683 rows × 7 columns</p>\n",
       "</div>"
      ],
      "text/plain": [
       "       radio  mcc   area       cell         lon        lat  range\n",
       "0        GSM  460  20687      59282  121.028058  31.333056   1000\n",
       "1        GSM  460  21124      56686  120.684471  31.351204   1000\n",
       "2        GSM  460  22547      13677  120.126572  30.253601   1000\n",
       "3        GSM  460  29828      40113  112.388077  26.410446   1000\n",
       "4        GSM  460  28960      41574  114.827042  30.850296   1000\n",
       "...      ...  ...    ...        ...         ...        ...    ...\n",
       "974678   GSM  460   9025       1918  115.859545  23.967862   1000\n",
       "974679   GSM  460   9071      38724  115.964227  24.016896   1000\n",
       "974680   GSM  460   9071       4085  115.965408  24.016786   1000\n",
       "974681   GSM  460   9071      38705  115.993442  24.024188   1000\n",
       "974682   LTE  460  33284  195577244  103.623505  30.509882   1000\n",
       "\n",
       "[974683 rows x 7 columns]"
      ]
     },
     "execution_count": 16,
     "metadata": {},
     "output_type": "execute_result"
    }
   ],
   "source": [
    "subset"
   ]
  },
  {
   "attachments": {},
   "cell_type": "markdown",
   "metadata": {},
   "source": [
    "Create the visual on Kepler.gl"
   ]
  },
  {
   "cell_type": "code",
   "execution_count": 17,
   "metadata": {},
   "outputs": [
    {
     "name": "stdout",
     "output_type": "stream",
     "text": [
      "User Guide: https://docs.kepler.gl/docs/keplergl-jupyter\n"
     ]
    },
    {
     "data": {
      "application/vnd.jupyter.widget-view+json": {
       "model_id": "dcc1002145974bc3b13d6e6a9653570f",
       "version_major": 2,
       "version_minor": 0
      },
      "text/plain": [
       "KeplerGl(config={'version': 'v1', 'config': {'visState': {'filters': [], 'layers': [{'id': '4e3poy', 'type': '…"
      ]
     },
     "metadata": {},
     "output_type": "display_data"
    }
   ],
   "source": [
    "cell_tower_visual = KeplerGl(height=800, data={\"LTE Cell Towers\": subset}, config=config)\n",
    "cell_tower_visual.add_data(data=subset, name='UMTS Cell Towers')\n",
    "cell_tower_visual.add_data(data=subset, name='GSM Cell Towers')\n",
    "cell_tower_visual"
   ]
  },
  {
   "cell_type": "code",
   "execution_count": 18,
   "metadata": {},
   "outputs": [
    {
     "name": "stdout",
     "output_type": "stream",
     "text": [
      "Map saved to Cell Towers - China.html!\n"
     ]
    }
   ],
   "source": [
    "cell_tower_visual.save_to_html(file_name='Cell Towers - China.html')"
   ]
  },
  {
   "cell_type": "code",
   "execution_count": null,
   "metadata": {},
   "outputs": [],
   "source": []
  }
 ],
 "metadata": {
  "kernelspec": {
   "display_name": "bt4222_env",
   "language": "python",
   "name": "python3"
  },
  "language_info": {
   "codemirror_mode": {
    "name": "ipython",
    "version": 3
   },
   "file_extension": ".py",
   "mimetype": "text/x-python",
   "name": "python",
   "nbconvert_exporter": "python",
   "pygments_lexer": "ipython3",
   "version": "3.7.11"
  },
  "orig_nbformat": 4
 },
 "nbformat": 4,
 "nbformat_minor": 2
}
